{
 "cells": [
  {
   "cell_type": "markdown",
   "metadata": {},
   "source": [
    "# What this file does"
   ]
  },
  {
   "cell_type": "markdown",
   "metadata": {},
   "source": [
    "\n",
    "Things to check:\n",
    "    \n",
    "    1) Methodology for calculating time per resident per day: Sum (Direct nursing staff hours) / Sum (Total Resident Days) \n",
    "           \n",
    "    2) Direct care definition correct? Only RN and LPN, not Aides — should I be adding those too? \n",
    "    \n",
    "    3) Provider type classifications: Do I understand them right? \n",
    "    \n",
    "Cost report nationally — can I replicate this analysis nationwide? Data exists, it's a question of making sure that the state's definitions are the same as the federal database and wrapping my arms around it"
   ]
  },
  {
   "cell_type": "markdown",
   "metadata": {},
   "source": [
    "# Tools"
   ]
  },
  {
   "cell_type": "code",
   "execution_count": 24,
   "metadata": {},
   "outputs": [],
   "source": [
    "#tools\n",
    "import pandas as pd\n",
    "import numpy as np"
   ]
  },
  {
   "cell_type": "code",
   "execution_count": 2,
   "metadata": {},
   "outputs": [],
   "source": [
    "#read in CT data for 2020 (release MArch 2021)\n",
    "df = pd.read_csv('cost_report.csv')"
   ]
  },
  {
   "cell_type": "code",
   "execution_count": 10,
   "metadata": {},
   "outputs": [
    {
     "name": "stdout",
     "output_type": "stream",
     "text": [
      "Salaries and Wages Operators Owners Hrs\n",
      "Salaries and Wages Administrator Hrs\n",
      "Salaries and Wages Assist Administrator Hrs\n",
      "Salaries and Wages Other Administrator Hrs\n",
      "Salaries and Wages Head Dietitian Hrs\n",
      "Salaries and Wages Food Serv Supervisor Hrs\n",
      "Salaries and Wages Dietary Workers Hrs\n",
      "Salaries and Wages Head Housekeeper Hrs\n",
      "Salaries and Wages Housekeeper Worker Hrs\n",
      "Salaries and Wages Engineer Hrs\n",
      "Salaries and Wages Maintenance Worker Hrs\n",
      "Salaries and Wages Laundry Supervisor Hrs\n",
      "Salaries and Wages Laundry Worker Hrs\n",
      "Salaries and Wages Barber Hrs\n",
      "Salaries and Wages Protective Services Hrs\n",
      "Salaries and Wages Head Accountant Hrs\n",
      "Salaries and Wages Other Accountant Hrs\n",
      "Salaries and Wages Director Nurse Hrs\n",
      "Salaries and Wages RN Direct Care Hrs\n",
      "Salaries and Wages RN Admin Hrs\n",
      "Salaries and Wages LPN Direct Care Hrs\n",
      "Salaries and Wages LPN Admin Hrs\n",
      "Salaries and Wages Aides Hrs\n",
      "Salaries and Wages PT Hrs\n",
      "Salaries and Wages ST Hrs\n",
      "Salaries and Wages OT Hrs\n",
      "Salaries and Wages Recreation Worker Hrs\n",
      "Salaries and Wages Med Director Hrs\n",
      "Salaries and Wages Utilization Review Hrs\n",
      "Salaries and Wages Res Care Hrs\n",
      "Salaries and Wages Physician Hrs\n",
      "Salaries and Wages Dentist Hrs\n",
      "Salaries and Wages Pharmacists Hrs\n",
      "Salaries and Wages Podiatrists Hrs\n",
      "Salaries and Wages Social Worker Case Mgt Hrs\n",
      "Salaries and Wages Marketing Hrs\n",
      "Salaries and Wages Other Hrs\n",
      "Salaries and Wages Other Attached Schedule Hrs\n",
      "Total Salary Expenditures Hrs\n"
     ]
    }
   ],
   "source": [
    "#column peek\n",
    "list_columns = df.columns\n",
    "for column in list_columns:\n",
    "    if \"Hrs\" in column:\n",
    "        print(column)"
   ]
  },
  {
   "cell_type": "code",
   "execution_count": 11,
   "metadata": {},
   "outputs": [
    {
     "name": "stdout",
     "output_type": "stream",
     "text": [
      "Care Days Other\n",
      "Total Care Days\n",
      "Medicaid Reserve Bed Days\n",
      "Other Reserve Bed Days\n",
      "Total Resident Days\n"
     ]
    }
   ],
   "source": [
    "#denominator selection\n",
    "for column in list_columns:\n",
    "    if \"Day\" in column:\n",
    "        print(column)"
   ]
  },
  {
   "cell_type": "markdown",
   "metadata": {},
   "source": [
    "# Ratio calculation"
   ]
  },
  {
   "cell_type": "code",
   "execution_count": 15,
   "metadata": {},
   "outputs": [],
   "source": [
    "#per formula above\n",
    "df['ratio_estimated'] = (df['Salaries and Wages RN Direct Care Hrs']+df['Salaries and Wages LPN Direct Care Hrs'])/df['Total Resident Days']"
   ]
  },
  {
   "cell_type": "code",
   "execution_count": 39,
   "metadata": {},
   "outputs": [],
   "source": [
    "#with aides\n",
    "df['ratio_estimated_2'] = (df['Salaries and Wages RN Direct Care Hrs']+df['Salaries and Wages LPN Direct Care Hrs']+df['Salaries and Wages Aides Hrs'])/df['Total Resident Days']"
   ]
  },
  {
   "cell_type": "code",
   "execution_count": 45,
   "metadata": {},
   "outputs": [],
   "source": [
    "#filter out zeroes and nan values \n",
    "df_final = df[(df['ratio_estimated']!=0)&(df['ratio_estimated'].isna()==False)][['Provider Name', 'Provider Type', 'ratio_estimated','ratio_estimated_2']]"
   ]
  },
  {
   "cell_type": "code",
   "execution_count": 46,
   "metadata": {},
   "outputs": [
    {
     "data": {
      "text/plain": [
       "array(['CCNH   ', 'ICF-IID', 'RHNS   ', 'RCH    ', 'CDH    ', 'AIDSNF ',\n",
       "       'SLTC   '], dtype=object)"
      ]
     },
     "execution_count": 46,
     "metadata": {},
     "output_type": "execute_result"
    }
   ],
   "source": [
    "df_final['Provider Type'].unique()"
   ]
  },
  {
   "cell_type": "code",
   "execution_count": 48,
   "metadata": {},
   "outputs": [
    {
     "data": {
      "text/plain": [
       "<AxesSubplot:>"
      ]
     },
     "execution_count": 48,
     "metadata": {},
     "output_type": "execute_result"
    },
    {
     "data": {
      "image/png": "[encoded data removed]",
      "text/plain": [
       "<Figure size 432x288 with 1 Axes>"
      ]
     },
     "metadata": {
      "needs_background": "light"
     },
     "output_type": "display_data"
    }
   ],
   "source": [
    "df_final[df_final['Provider Type']=='CCNH   ']['ratio_estimated'].hist()\n",
    "#df_final[df_final['Provider Type']=='CCNH   ']['ratio_estimated_2'].hist()"
   ]
  },
  {
   "cell_type": "code",
   "execution_count": 37,
   "metadata": {},
   "outputs": [
    {
     "data": {
      "text/plain": [
       "<AxesSubplot:>"
      ]
     },
     "execution_count": 37,
     "metadata": {},
     "output_type": "execute_result"
    },
    {
     "data": {
      "image/png": "[encoded data removed]",
      "text/plain": [
       "<Figure size 432x288 with 1 Axes>"
      ]
     },
     "metadata": {
      "needs_background": "light"
     },
     "output_type": "display_data"
    }
   ],
   "source": [
    "df_final[df_final['Provider Type']=='RHNS   ']['ratio_estimated'].hist()"
   ]
  },
  {
   "cell_type": "code",
   "execution_count": null,
   "metadata": {},
   "outputs": [],
   "source": []
  }
 ],
 "metadata": {
  "kernelspec": {
   "display_name": "Python 3",
   "language": "python",
   "name": "python3"
  },
  "language_info": {
   "codemirror_mode": {
    "name": "ipython",
    "version": 3
   },
   "file_extension": ".py",
   "mimetype": "text/x-python",
   "name": "python",
   "nbconvert_exporter": "python",
   "pygments_lexer": "ipython3",
   "version": "3.7.1"
  }
 },
 "nbformat": 4,
 "nbformat_minor": 4
}
